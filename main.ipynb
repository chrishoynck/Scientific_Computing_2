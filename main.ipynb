{
 "cells": [
  {
   "cell_type": "markdown",
   "metadata": {},
   "source": [
    "# Scientific Computing: Diffusion Limited Aggregation and Reaction Diffusion"
   ]
  },
  {
   "cell_type": "markdown",
   "metadata": {},
   "source": [
    "## Imports"
   ]
  },
  {
   "cell_type": "code",
   "execution_count": 1,
   "metadata": {},
   "outputs": [],
   "source": [
    "import numpy as np\n",
    "from IPython.display import HTML\n",
    "import pickle as pkl\n",
    "import os\n",
    "from IPython.display import Image, display\n",
    "\n",
    "# concentration based DLA solution\n",
    "import src.solutions.concentrations_DLA as solutions_DLA\n",
    "\n",
    "# monte carlo DLA solution\n",
    "import src.solutions.monte_carlo_DLA as solutions_DLA_mc\n",
    "\n",
    "# gray scott reaction diffusion model\n",
    "import src.solutions.gray_scott as solutions_gs\n",
    "\n",
    "\n",
    "import src.visualizations as visualizations"
   ]
  },
  {
   "cell_type": "code",
   "execution_count": 2,
   "metadata": {},
   "outputs": [],
   "source": [
    "# import matplotlib.cm as cm\n",
    "# import matplotlib.colors as mcolors\n",
    "# import matplotlib.pyplot as plt\n",
    "# import matplotlib as mpl\n",
    "# from matplotlib.animation import FuncAnimation\n"
   ]
  },
  {
   "cell_type": "markdown",
   "metadata": {},
   "source": [
    "## A: Diffusion Limited Aggregation"
   ]
  },
  {
   "cell_type": "markdown",
   "metadata": {},
   "source": [
    "### Parameter Values"
   ]
  },
  {
   "cell_type": "code",
   "execution_count": 3,
   "metadata": {},
   "outputs": [],
   "source": [
    "\n",
    "N = 100\n",
    "eta = 1\n",
    "tol = 1e-4\n",
    "maxiters = 10000\n",
    "omega = 1.8\n",
    "cluster_size = 750\n",
    "etas = [0.3, 0.5, 0.7, 1, 1.3]\n",
    "omegas = np.linspace(1.4, 2, 7)\n",
    "omegas = np.delete(omegas, -1)\n",
    "\n",
    "grid_indices = np.arange(N*N)\n",
    "itertjes = 1500\n",
    "np.round(omegas,1)\n",
    "\n",
    "# optimal omegas, determined with experimentation\n",
    "opp_omm = [1.5, 1.6, 1.6, 1.6, 1.7]\n",
    "opt_omegas = dict()\n",
    "for i, e in enumerate(etas):\n",
    "    opt_omegas[e] = opp_omm[i]"
   ]
  },
  {
   "cell_type": "markdown",
   "metadata": {},
   "source": [
    "### Initialization\n",
    "creating an initial grid by placing object at the bottom of the 2D grid.   \n",
    "The grid has a source at the top of the grid.   \n",
    "within SOR, being part of the object is resembled with concentration of 0"
   ]
  },
  {
   "cell_type": "code",
   "execution_count": 4,
   "metadata": {},
   "outputs": [],
   "source": [
    "object_grid = solutions_DLA.place_objects(N)\n",
    "grid = solutions_DLA.initialize_grid(N, object_grid)\n",
    "iters, grid = solutions_DLA.parallel_SOR(grid, tol, maxiters, omega, object_grid)\n",
    "assert iters < maxiters, f\"No convergence for SOR, omega: {omega} \""
   ]
  },
  {
   "cell_type": "markdown",
   "metadata": {},
   "source": [
    "### Animation of the DLA Process for Different Eta Values\n",
    "run the DLA by solving the Laplace formula of the grid,  \n",
    "calculating the cell connection probabilities with each cell concentration,  \n",
    "and by selecting potential new cells joining the object (north, east, south, west) neighbors of the object. \n",
    "Update the grid by adding the selected cell to the object and rerunning these steps. \n",
    "\n",
    "Visualization of this process is provided here. "
   ]
  },
  {
   "cell_type": "markdown",
   "metadata": {},
   "source": [
    "#### generate simulation (animation can also be found in plots file)"
   ]
  },
  {
   "cell_type": "code",
   "execution_count": null,
   "metadata": {},
   "outputs": [],
   "source": [
    "# use neutral omega value to reconfigure first grid \n",
    "if omega != 1.7:\n",
    "    omega = 1.7\n",
    "    iters, grid = solutions_DLA.parallel_SOR(grid, tol, maxiters, omega, object_grid)     \n",
    "    assert iters < maxiters, f\"No convergence for SOR, omega: {omega} \"\n",
    "\n",
    "# copy initial grid to save computation time for all 5 subgaphs (different eta values)\n",
    "iter_grid_list = [np.copy(grid) for _ in range(5)]\n",
    "object_grid_list = [np.copy(object_grid) for _ in range(5)]\n",
    "\n",
    "\n",
    "# generate the initial neighbors that can be chosen to add to the object (copy 5 times as well)\n",
    "stencil_iter = solutions_DLA.generate_stencil(object_grid_list[0])\n",
    "stencil_list = [np.copy(stencil_iter) for _ in range(5)]\n",
    "seedje = 22\n",
    "\n",
    "# render visualization (updates are done dynamically)\n",
    "ani = visualizations.animate_1a(iter_grid_list, stencil_list, object_grid_list, grid_indices, etas, seedje, tol, maxiters, opt_omegas, itertjes=1500)\n"
   ]
  },
  {
   "cell_type": "markdown",
   "metadata": {},
   "source": [
    "#### Visualize animation"
   ]
  },
  {
   "cell_type": "code",
   "execution_count": null,
   "metadata": {},
   "outputs": [],
   "source": [
    "# visualize within notebook\n",
    "%matplotlib inline\n",
    "saved_anim = \"plots/2D_diffusion.gif\"\n",
    "HTML(f'<img src=\"{saved_anim}\" style=\"width: 600px;\">')"
   ]
  },
  {
   "cell_type": "markdown",
   "metadata": {},
   "source": [
    "### Computation of the average number of iterations for a SOR convergence step for Different Omega Values (Run Over 10 Different Grids )"
   ]
  },
  {
   "cell_type": "code",
   "execution_count": null,
   "metadata": {},
   "outputs": [],
   "source": [
    "itertjes = 750\n",
    "seedje=22\n",
    "\n",
    "eta_lijstje, grid_lijstje, all_itertjes = solutions_DLA.optimize_omega_DLA(itertjes, etas, seedje, omegas, grid, object_grid, tol, maxiters, grid_indices)"
   ]
  },
  {
   "cell_type": "markdown",
   "metadata": {},
   "source": [
    "### Visualization of Average Iterations for Each SOR Convergence Step for Different Omega Values"
   ]
  },
  {
   "cell_type": "code",
   "execution_count": null,
   "metadata": {},
   "outputs": [],
   "source": [
    "best_omegas = visualizations.plot_omega_vs_iterations(omegas, all_itertjes)\n",
    "for eetje, ommetje in best_omegas.items():\n",
    "    print(f\"For eta:  {eetje},  the optimal omega is {np.round(ommetje, 1)} \")"
   ]
  },
  {
   "cell_type": "markdown",
   "metadata": {},
   "source": [
    "### Comparison sequential vs Parallel implementation of SOR \n",
    "This is done for eta value 1, and cluster size 750"
   ]
  },
  {
   "cell_type": "code",
   "execution_count": null,
   "metadata": {},
   "outputs": [],
   "source": [
    "\n",
    "# with eta is 1\n",
    "sr_val = (tol, maxiters, opt_omegas[1])\n",
    "parallel_time, sequential_time, _, _ = solutions_DLA.speedup_par_seq(grid, object_grid, sr_val, grid_indices, 750, etatje=1)\n",
    "\n",
    "print(f\"Parallel execution time: {parallel_time:.4f} seconds\")\n",
    "print(f\"Sequential execution time: {sequential_time:.4f} seconds\")\n",
    "print(f\"Speedup: {sequential_time / parallel_time:.2f}x\")"
   ]
  },
  {
   "cell_type": "markdown",
   "metadata": {},
   "source": [
    "### Visualization of Clusters for Different Eta Values"
   ]
  },
  {
   "cell_type": "code",
   "execution_count": null,
   "metadata": {},
   "outputs": [],
   "source": [
    "visualizations.plot_five_DLA(grid_lijstje, etas)"
   ]
  },
  {
   "cell_type": "markdown",
   "metadata": {},
   "source": [
    "## B. Implemention of the Monte Carlo version of DLA + comparison of the resulting cluster to those obtained with the diffusion equation."
   ]
  },
  {
   "cell_type": "code",
   "execution_count": 4,
   "metadata": {},
   "outputs": [],
   "source": [
    "# Initial parameters for the DLA simulation using random walkers\n",
    "N = 100\n",
    "cluster_size = 750\n",
    "p_join_standard = 1.0\n",
    "\n",
    "# Evolution of diffusion using random walkers\n",
    "\n",
    "file_path = \"data/all_grids2.pkl\"\n",
    "# Load the data if it exists else run the simulation\n",
    "if os.path.exists(file_path):\n",
    "    try:\n",
    "        with open(file_path, \"rb\") as f:\n",
    "            all_grids = pkl.load(f)\n",
    "    except EOFError:\n",
    "        print(\"EOFError: existing data not found, will run simulation\")\n",
    "else:\n",
    "    all_grids = solutions_DLA_mc.monte_carlo_dla(N, p_join_standard, cluster_size, animation=True)\n",
    "\n",
    "animation = visualizations.animate_mc_dla(all_grids)"
   ]
  },
  {
   "cell_type": "code",
   "execution_count": null,
   "metadata": {},
   "outputs": [],
   "source": [
    "gif_path = \"plots/animation_random_walker.gif\"\n",
    "\n",
    "# Display the GIF\n",
    "display(Image(filename=gif_path))"
   ]
  },
  {
   "cell_type": "markdown",
   "metadata": {},
   "source": [
    "## C. Generating the simulation for Monte Carlo DLA for different values of ps and visualized the results\n",
    "for a cluster size of 750"
   ]
  },
  {
   "cell_type": "code",
   "execution_count": null,
   "metadata": {},
   "outputs": [],
   "source": [
    "N = 100\n",
    "cluster_size = 750\n",
    "probs = [0.01, 0.05, 0.2, 0.6, 1.0]\n",
    "probs_grids = []\n",
    "save_prob_grids = False\n",
    "\n",
    "# Existing data file, re-running takes approximately 30 minutes\n",
    "file_path = \"data/probabilities_grids.pkl\"\n",
    "\n",
    "if os.path.exists(file_path):\n",
    "    with open(file_path, \"rb\") as f:\n",
    "        probs_grids = pkl.load(f)\n",
    "        #print(probs_grids)\n",
    "else:\n",
    "    for prob in probs:\n",
    "        grids = solutions_DLA_mc.monte_carlo_dla(N, prob, cluster_size)\n",
    "        probs_grids.append(grids[0])\n",
    "\n",
    "if save_prob_grids:\n",
    "    with open(file_path, \"wb\") as f:\n",
    "        pkl.dump(probs_grids, f)\n",
    "\n",
    "\n",
    "visualizations.visualize_for_different_probs(probs_grids, probs)"
   ]
  },
  {
   "cell_type": "markdown",
   "metadata": {},
   "source": [
    "## D. Implementation of the Gray-Scott model in 2D with periodic boundary conditions for a N x N grid \n",
    "The implementation is parallelized over rows for the Laplace equation used. For initial conditions, u = 0.5 is taken everywhere in the system, v = 0.25 is taken in a small square in the center of the system.  \n",
    " A small amount of noise is added in the center of the system for both U and V. The resulting concentration of U is plotted for different parameter values. "
   ]
  },
  {
   "cell_type": "code",
   "execution_count": null,
   "metadata": {},
   "outputs": [],
   "source": [
    "# parameters\n",
    "N = 300  # grid size\n",
    "num_steps = 15000  # number of time steps\n",
    "dt = 1 # time step size\n",
    "dx = 1 # grid spacing\n",
    "noise_level = 0.01 # noise level\n",
    "output_dir = \"plots\"\n",
    "\n",
    "# parameter sets for f (first) and k (second) - 1\n",
    "param_sets_f_k = [\n",
    "    (0.025, 0.050),\n",
    "    (0.045, 0.060),\n",
    "    (0.062, 0.061),\n",
    "    (0.062, 0.062)\n",
    "]\n",
    "\n",
    "# first diffusion coefficient pairs - 1\n",
    "param_sets_Du_Dv_1 = (0.16, 0.08)\n",
    "\n",
    "# store final results of U concentration for plotting - 1\n",
    "u_final_list_1 = []\n",
    "\n",
    "# iterate through f and k values - 1\n",
    "for f, k in param_sets_f_k:\n",
    "    Du_1, Dv_1 = param_sets_Du_Dv_1 # test for Du=0.16, Dv=0.08\n",
    "    u_final_1, _ = solutions_gs.run_simulation_gray_scott(N, num_steps, dt, dx, Du_1, Dv_1, f, k, noise_level)\n",
    "    u_final_list_1.append(u_final_1)\n",
    "\n",
    "# plot the final concentrations of U for the tested parameter sets - 1\n",
    "visualizations.plot_final_gray_scott(u_final_list_1, param_sets_f_k, N, output_dir, plot_number=1)\n",
    "\n",
    "# second diffusion coefficient pairs - 2\n",
    "param_sets_Du_Dv_2 = (0.20, 0.08)\n",
    "\n",
    "# store final results of U concentration for plotting - 2\n",
    "u_final_list_2 = []\n",
    "\n",
    "# iterate through f and k values - 2\n",
    "for f, k in param_sets_f_k:\n",
    "    Du_2, Dv_2 = param_sets_Du_Dv_2 # test for Du=0.20, Dv=0.08\n",
    "    u_final_2, _ = solutions_gs.run_simulation_gray_scott(N, num_steps, dt, dx, Du_2, Dv_2, f, k, noise_level)\n",
    "    u_final_list_2.append(u_final_2)\n",
    "\n",
    "# plot the final concentrations of U for the tested parameter sets - 2\n",
    "visualizations.plot_final_gray_scott(u_final_list_2, param_sets_f_k, N, output_dir, plot_number=2)"
   ]
  }
 ],
 "metadata": {
  "kernelspec": {
   "display_name": ".venv",
   "language": "python",
   "name": "python3"
  },
  "language_info": {
   "codemirror_mode": {
    "name": "ipython",
    "version": 3
   },
   "file_extension": ".py",
   "mimetype": "text/x-python",
   "name": "python",
   "nbconvert_exporter": "python",
   "pygments_lexer": "ipython3",
   "version": "3.13.2"
  }
 },
 "nbformat": 4,
 "nbformat_minor": 2
}
