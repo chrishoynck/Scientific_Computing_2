{
 "cells": [
  {
   "cell_type": "markdown",
   "metadata": {},
   "source": [
    "# Scientific Computing: Diffusion Limited Aggregation and Reaction Diffusion"
   ]
  },
  {
   "cell_type": "markdown",
   "metadata": {},
   "source": [
    "## Imports"
   ]
  },
  {
   "cell_type": "code",
   "execution_count": 1,
   "metadata": {},
   "outputs": [],
   "source": [
    "import numpy as np\n",
    "from IPython.display import HTML\n",
    "\n",
    "import src.solutions as solutions\n",
    "import src.visualizations as visualizations"
   ]
  },
  {
   "cell_type": "code",
   "execution_count": 2,
   "metadata": {},
   "outputs": [],
   "source": [
    "import matplotlib.cm as cm\n",
    "import matplotlib.colors as mcolors\n",
    "import matplotlib.pyplot as plt\n",
    "from matplotlib.animation import FuncAnimation"
   ]
  },
  {
   "cell_type": "markdown",
   "metadata": {},
   "source": [
    "## Diffusion Limited Aggregation"
   ]
  },
  {
   "cell_type": "markdown",
   "metadata": {},
   "source": [
    "### Parameter Values"
   ]
  },
  {
   "cell_type": "code",
   "execution_count": 3,
   "metadata": {},
   "outputs": [],
   "source": [
    "# packed parameters for easy transfer\n",
    "N = 100\n",
    "eta = 0.7\n",
    "tol = 1e-4\n",
    "maxiters = 10000\n",
    "omega = 1.9\n",
    "grid_indices = np.arange(N*N)\n",
    "np.random.seed(22)"
   ]
  },
  {
   "cell_type": "markdown",
   "metadata": {},
   "source": [
    "#### Initialization\n",
    "creating an initial grid by placing object at the bottom of the 2D grid.   \n",
    "The grid has a source at the top of the grid.   \n",
    "within SOR, being part of the object is resembled with concentration of 0"
   ]
  },
  {
   "cell_type": "code",
   "execution_count": 4,
   "metadata": {},
   "outputs": [],
   "source": [
    "object_grid = solutions.place_objects(N)\n",
    "grid = solutions.initialize_grid(N, object_grid)\n",
    "iters, grid = solutions.sequential_SOR(grid, tol, maxiters, omega, object_grid)"
   ]
  },
  {
   "cell_type": "markdown",
   "metadata": {},
   "source": [
    "visualizing diffusion grid along with object (grid is turned 180 degrees)  \n",
    "object is placed in 0 diffusion zone. "
   ]
  },
  {
   "cell_type": "code",
   "execution_count": null,
   "metadata": {},
   "outputs": [],
   "source": [
    "# normalized_grid = normalize_concentration(grid)\n",
    "visualizations.plot_simulation_without_animation(grid, N, object_grid)\n",
    "solutions.save_grid_to_file(grid)"
   ]
  },
  {
   "cell_type": "markdown",
   "metadata": {},
   "source": [
    "#### Update initialized grid\n",
    "run the DLA by solving the Laplace formula of the grid,  \n",
    "calculating the cell connection probabilities with each cell concentration,  \n",
    "and by selecting potential new cells joining the object (north, east, south, west) neighbors of the object. \n",
    "Update the grid by adding the selected cell to the object and rerunning these steps. \n",
    "\n",
    "Visualization of this process is provided here. "
   ]
  },
  {
   "cell_type": "code",
   "execution_count": null,
   "metadata": {},
   "outputs": [],
   "source": [
    "iter_grid = np.copy(grid)\n",
    "object_grid_iter = np.copy(object_grid)\n",
    "Sr_pars = (tol, maxiters, omega)\n",
    "stencil_iter = solutions.generate_stencil(object_grid_iter)\n",
    "\n",
    "seedje = 22\n",
    "ani = visualizations.animate_1a(iter_grid, stencil_iter, object_grid_iter, grid_indices, eta, seedje, Sr_pars)\n"
   ]
  },
  {
   "cell_type": "code",
   "execution_count": null,
   "metadata": {},
   "outputs": [],
   "source": []
  }
 ],
 "metadata": {
  "kernelspec": {
   "display_name": "myenvsc2",
   "language": "python",
   "name": "python3"
  },
  "language_info": {
   "codemirror_mode": {
    "name": "ipython",
    "version": 3
   },
   "file_extension": ".py",
   "mimetype": "text/x-python",
   "name": "python",
   "nbconvert_exporter": "python",
   "pygments_lexer": "ipython3",
   "version": "3.12.3"
  }
 },
 "nbformat": 4,
 "nbformat_minor": 2
}
