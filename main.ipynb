{
 "cells": [
  {
   "cell_type": "markdown",
   "metadata": {},
   "source": [
    "# Scientific Computing: Diffusion Limited Aggregation and Reaction Diffusion"
   ]
  },
  {
   "cell_type": "markdown",
   "metadata": {},
   "source": [
    "## Imports"
   ]
  },
  {
   "cell_type": "code",
   "execution_count": null,
   "metadata": {},
   "outputs": [],
   "source": [
    "import numpy as np\n",
    "from IPython.display import HTML\n",
    "\n",
    "import src.solutions as solutions\n",
    "import src.visualizations as visualizations"
   ]
  },
  {
   "cell_type": "code",
   "execution_count": null,
   "metadata": {},
   "outputs": [],
   "source": [
    "import matplotlib.cm as cm\n",
    "import matplotlib.colors as mcolors\n",
    "import matplotlib.pyplot as plt\n",
    "from matplotlib.animation import FuncAnimation\n"
   ]
  },
  {
   "cell_type": "markdown",
   "metadata": {},
   "source": [
    "## Diffusion Limited Aggregation"
   ]
  },
  {
   "cell_type": "markdown",
   "metadata": {},
   "source": [
    "### Parameter Values"
   ]
  },
  {
   "cell_type": "code",
   "execution_count": null,
   "metadata": {},
   "outputs": [],
   "source": [
    "\n",
    "N = 100\n",
    "eta = 1\n",
    "tol = 1e-4\n",
    "maxiters = 10000\n",
    "omega = 1.8\n",
    "cluster_size = 750\n",
    "etas = [0.3, 0.5, 0.7, 1, 1.3]\n",
    "omegas = np.linspace(1.4, 2, 7)\n",
    "omegas = np.delete(omegas, -1)\n",
    "\n",
    "grid_indices = np.arange(N*N)\n",
    "itertjes = 1500\n",
    "np.round(omegas,1)\n",
    "print(omegas)\n",
    "\n",
    "# optimal omegas, determined with experimentation\n",
    "opp_omm = [1.5, 1.6, 1.6, 1.6, 1.7]\n",
    "opt_omegas = dict()\n",
    "for i, e in enumerate(etas):\n",
    "    opt_omegas[e] = opp_omm[i]"
   ]
  },
  {
   "cell_type": "markdown",
   "metadata": {},
   "source": [
    "#### Initialization\n",
    "creating an initial grid by placing object at the bottom of the 2D grid.   \n",
    "The grid has a source at the top of the grid.   \n",
    "within SOR, being part of the object is resembled with concentration of 0"
   ]
  },
  {
   "cell_type": "code",
   "execution_count": null,
   "metadata": {},
   "outputs": [],
   "source": [
    "object_grid = solutions.place_objects(N)\n",
    "grid = solutions.initialize_grid(N, object_grid)\n",
    "iters, grid = solutions.parallel_SOR(grid, tol, maxiters, omega, object_grid)\n",
    "assert iters < maxiters, f\"No convergence for SOR, omega: {omega} \""
   ]
  },
  {
   "cell_type": "markdown",
   "metadata": {},
   "source": [
    "visualizing diffusion grid along with object (grid is turned 180 degrees)  \n",
    "object is placed in 0 diffusion zone. "
   ]
  },
  {
   "cell_type": "code",
   "execution_count": null,
   "metadata": {},
   "outputs": [],
   "source": [
    "# normalized_grid = normalize_concentration(grid)\n",
    "visualizations.plot_simulation_without_animation(grid, N, object_grid)\n",
    "solutions.save_grid_to_file(grid)"
   ]
  },
  {
   "cell_type": "markdown",
   "metadata": {},
   "source": [
    "#### Update initialized grid\n",
    "run the DLA by solving the Laplace formula of the grid,  \n",
    "calculating the cell connection probabilities with each cell concentration,  \n",
    "and by selecting potential new cells joining the object (north, east, south, west) neighbors of the object. \n",
    "Update the grid by adding the selected cell to the object and rerunning these steps. \n",
    "\n",
    "Visualization of this process is provided here. "
   ]
  },
  {
   "cell_type": "markdown",
   "metadata": {},
   "source": [
    "### Animation of the DLA Process for Different Eta Values"
   ]
  },
  {
   "cell_type": "code",
   "execution_count": null,
   "metadata": {},
   "outputs": [],
   "source": [
    "if omega != 1.7:\n",
    "    omega = 1.7\n",
    "    iters, grid = solutions.parallel_SOR(grid, tol, maxiters, omega, object_grid)     \n",
    "    assert iters < maxiters, f\"No convergence for SOR, omega: {omega} \"\n",
    "    \n",
    "for eta in etas:\n",
    "\n",
    "    # copy initial grid to save computation time\n",
    "    iter_grid = np.copy(grid)\n",
    "    object_grid_iter = np.copy(object_grid)\n",
    "\n",
    "    # choose precomputed optimal omega for the specific eta\n",
    "    omega = opt_omegas[eta]\n",
    "\n",
    "    # pack the parameters for SOR\n",
    "    Sr_pars = (tol, maxiters, omega)\n",
    "\n",
    "    # generate the initial neighbors that can be chosen to add to the object\n",
    "    stencil_iter = solutions.generate_stencil(object_grid_iter)\n",
    "    seedje = 22\n",
    "    print(f\"starting animation for DLA, eta: {eta}\")\n",
    "\n",
    "    # render visualization (updates are done dynamically)\n",
    "    ani = visualizations.animate_1a(iter_grid, stencil_iter, object_grid_iter, grid_indices, eta, seedje, Sr_pars)\n"
   ]
  },
  {
   "cell_type": "markdown",
   "metadata": {},
   "source": [
    "### Computation of the average number of iterations for a SOR convergence step for Different Omega Values (Run Over 10 Different Grids )"
   ]
  },
  {
   "cell_type": "code",
   "execution_count": null,
   "metadata": {},
   "outputs": [],
   "source": [
    "itertjes = 750\n",
    "seedje=22\n",
    "\n",
    "eta_lijstje, grid_lijstje, all_itertjes = solutions.optimize_omega_DLA(itertjes, etas, seedje, omegas, grid, object_grid, tol, maxiters, grid_indices)"
   ]
  },
  {
   "cell_type": "markdown",
   "metadata": {},
   "source": [
    "### Visualization of Average Iterations for Each SOR Convergence Step for Different Omega Values"
   ]
  },
  {
   "cell_type": "code",
   "execution_count": null,
   "metadata": {},
   "outputs": [],
   "source": [
    "best_omegas = visualizations.plot_omega_vs_iterations(omegas, all_itertjes)\n",
    "for eetje, ommetje in best_omegas.items():\n",
    "    print(f\"For eta:  {eetje},  the optimal omega is {ommetje} \")"
   ]
  },
  {
   "cell_type": "markdown",
   "metadata": {},
   "source": [
    "### Visualization of Clusters for Different Eta Values"
   ]
  },
  {
   "cell_type": "code",
   "execution_count": null,
   "metadata": {},
   "outputs": [],
   "source": [
    "visualizations.plot_five_DLA(grid_lijstje, etas)"
   ]
  },
  {
   "cell_type": "markdown",
   "metadata": {},
   "source": [
    "### B. Implement the Monte Carlo version of DLA. Compare the resulting cluster to those obtained with the diffusion equation."
   ]
  },
  {
   "cell_type": "code",
   "execution_count": null,
   "metadata": {},
   "outputs": [],
   "source": [
    "# Initial parameters for the DLA simulation using random walkers\n",
    "N = 100\n",
    "cluster_size = 750\n",
    "p_join_standard = 1.0\n",
    "\n",
    "# Evolution of diffusion using random walkers\n",
    "all_grids = solutions.monte_carlo_dla(N, p_join_standard, cluster_size, animation=True)\n",
    "animation = visualizations.animate_mc_dla(all_grids)\n",
    "\n",
    "HTML(animation.to_jshtml())"
   ]
  },
  {
   "cell_type": "markdown",
   "metadata": {},
   "source": [
    "### C. Run the simulation for different values of ps, and plot the results. How does the cluster shape depend on Ps?"
   ]
  },
  {
   "cell_type": "code",
   "execution_count": null,
   "metadata": {},
   "outputs": [],
   "source": [
    "N = 100\n",
    "cluster_size = 750\n",
    "probs = [0.01, 0.05, 0.2, 0.6, 1.0]\n",
    "probs_grid = []\n",
    "\n",
    "for prob in probs:\n",
    "    grids = solutions.monte_carlo_dla(N, prob, cluster_size)\n",
    "    probs_grid.append(grid[0])\n",
    "\n",
    "visualizations.visualize_for_different_probs(probs_grid, probs)"
   ]
  },
  {
   "cell_type": "markdown",
   "metadata": {},
   "source": [
    "#### D. Implementation of the Gray-Scott model in 2D with periodic boundary conditions for a N x N grid. The implementation is parallelized over rows for the Laplace equation used. For initial conditions, u = 0.5 is taken everywhere in the system, v = 0.25 is taken in a small square in the center of the system. A small amount of noise is added in the update equations. The resulting concentration of U is plotted for different parameter values. "
   ]
  },
  {
   "cell_type": "code",
   "execution_count": null,
   "metadata": {},
   "outputs": [],
   "source": [
    "# parameters\n",
    "N = 300  # grid size\n",
    "num_steps = 15000  # number of time steps\n",
    "dt = 1 # time step size\n",
    "dx = 1 # grid spacing\n",
    "noise_level = 0.01 # noise level\n",
    "output_dir = \"plots\"\n",
    "\n",
    "# parameter sets for f (first) and k (second) - 1\n",
    "param_sets_f_k = [\n",
    "    (0.025, 0.050),\n",
    "    (0.045, 0.060),\n",
    "    (0.062, 0.061),\n",
    "    (0.062, 0.062)\n",
    "]\n",
    "\n",
    "# first diffusion coefficient pairs - 1\n",
    "param_sets_Du_Dv_1 = (0.16, 0.08)\n",
    "\n",
    "# store final results of U concentration for plotting - 1\n",
    "u_final_list_1 = []\n",
    "\n",
    "# iterate through f and k values - 1\n",
    "for f, k in param_sets_f_k:\n",
    "    Du_1, Dv_1 = param_sets_Du_Dv_1 # test for Du=0.16, Dv=0.08\n",
    "    u_final_1, _ = solutions.run_simulation_gray_scott(N, num_steps, dt, dx, Du_1, Dv_1, f, k, noise_level)\n",
    "    u_final_list_1.append(u_final_1)\n",
    "\n",
    "# plot the final concentrations of U for the tested parameter sets - 1\n",
    "visualizations.plot_final_gray_scott(u_final_list_1, param_sets_f_k, N, output_dir, plot_number=1)\n",
    "\n",
    "# second diffusion coefficient pairs - 2\n",
    "param_sets_Du_Dv_2 = (0.20, 0.08)\n",
    "\n",
    "# store final results of U concentration for plotting - 2\n",
    "u_final_list_2 = []\n",
    "\n",
    "# iterate through f and k values - 2\n",
    "for f, k in param_sets_f_k:\n",
    "    Du_2, Dv_2 = param_sets_Du_Dv_2 # test for Du=0.20, Dv=0.08\n",
    "    u_final_2, _ = solutions.run_simulation_gray_scott(N, num_steps, dt, dx, Du_2, Dv_2, f, k, noise_level)\n",
    "    u_final_list_2.append(u_final_2)\n",
    "\n",
    "# plot the final concentrations of U for the tested parameter sets - 2\n",
    "visualizations.plot_final_gray_scott(u_final_list_2, param_sets_f_k, N, output_dir, plot_number=2)"
   ]
  },
  {
   "cell_type": "code",
   "execution_count": null,
   "metadata": {},
   "outputs": [],
   "source": []
  }
 ],
 "metadata": {
  "kernelspec": {
   "display_name": ".venv",
   "language": "python",
   "name": "python3"
  },
  "language_info": {
   "codemirror_mode": {
    "name": "ipython",
    "version": 3
   },
   "file_extension": ".py",
   "mimetype": "text/x-python",
   "name": "python",
   "nbconvert_exporter": "python",
   "pygments_lexer": "ipython3",
   "version": "3.13.2"
  }
 },
 "nbformat": 4,
 "nbformat_minor": 2
}
