{
 "cells": [
  {
   "cell_type": "markdown",
   "metadata": {},
   "source": [
    "# Scientific Computing: Diffusion Limited Aggregation and Reaction Diffusion"
   ]
  },
  {
   "cell_type": "markdown",
   "metadata": {},
   "source": [
    "## Imports"
   ]
  },
  {
   "cell_type": "code",
   "execution_count": 1,
   "metadata": {},
   "outputs": [],
   "source": [
    "import numpy as np\n",
    "from IPython.display import HTML\n",
    "\n",
    "import src.solutions as solutions\n",
    "import src.visualizations as visualizations"
   ]
  },
  {
   "cell_type": "code",
   "execution_count": 2,
   "metadata": {},
   "outputs": [],
   "source": [
    "import matplotlib.cm as cm\n",
    "import matplotlib.colors as mcolors\n",
    "import matplotlib.pyplot as plt\n",
    "from matplotlib.animation import FuncAnimation\n"
   ]
  },
  {
   "cell_type": "markdown",
   "metadata": {},
   "source": [
    "## Diffusion Limited Aggregation"
   ]
  },
  {
   "cell_type": "markdown",
   "metadata": {},
   "source": [
    "### Parameter Values"
   ]
  },
  {
   "cell_type": "code",
   "execution_count": null,
   "metadata": {},
   "outputs": [],
   "source": [
    "# packed parameters for easy transfer\n",
    "N = 100\n",
    "eta = 1\n",
    "tol = 1e-4\n",
    "maxiters = 10000\n",
    "omega = 1.8\n",
    "grid_indices = np.arange(N*N)\n",
    "np.random.seed(22)\n",
    "itertjes = 1500\n",
    "\n",
    "etas = [0.3, 0.5, 0.7, 1, 1.3]\n",
    "omegas = np.linspace(1.4, 2, 7)\n",
    "omegas = np.delete(omegas, -1)\n",
    "np.round(omegas,1)\n",
    "print(omegas)\n",
    "\n",
    "# optimal omegas, determined with experimentation\n",
    "opp_omm = [1.5, 1.6, 1.6, 1.6, 1.7]\n",
    "opt_omegas = dict()\n",
    "for i, e in enumerate(etas):\n",
    "    opt_omegas[e] = opp_omm[i]"
   ]
  },
  {
   "cell_type": "markdown",
   "metadata": {},
   "source": [
    "#### Initialization\n",
    "creating an initial grid by placing object at the bottom of the 2D grid.   \n",
    "The grid has a source at the top of the grid.   \n",
    "within SOR, being part of the object is resembled with concentration of 0"
   ]
  },
  {
   "cell_type": "code",
   "execution_count": 4,
   "metadata": {},
   "outputs": [],
   "source": [
    "object_grid = solutions.place_objects(N)\n",
    "grid = solutions.initialize_grid(N, object_grid)\n",
    "iters, grid = solutions.sequential_SOR(grid, tol, maxiters, omega, object_grid)\n",
    "assert iters < maxiters, f\"No convergence for SOR, omega: {omega} \""
   ]
  },
  {
   "cell_type": "markdown",
   "metadata": {},
   "source": [
    "visualizing diffusion grid along with object (grid is turned 180 degrees)  \n",
    "object is placed in 0 diffusion zone. "
   ]
  },
  {
   "cell_type": "code",
   "execution_count": null,
   "metadata": {},
   "outputs": [],
   "source": [
    "# normalized_grid = normalize_concentration(grid)\n",
    "visualizations.plot_simulation_without_animation(grid, N, object_grid)\n",
    "solutions.save_grid_to_file(grid)"
   ]
  },
  {
   "cell_type": "markdown",
   "metadata": {},
   "source": [
    "#### Update initialized grid\n",
    "run the DLA by solving the Laplace formula of the grid,  \n",
    "calculating the cell connection probabilities with each cell concentration,  \n",
    "and by selecting potential new cells joining the object (north, east, south, west) neighbors of the object. \n",
    "Update the grid by adding the selected cell to the object and rerunning these steps. \n",
    "\n",
    "Visualization of this process is provided here. "
   ]
  },
  {
   "cell_type": "code",
   "execution_count": 6,
   "metadata": {},
   "outputs": [],
   "source": [
    "# omega=1.8\n",
    "# eta = 1\n",
    "# itertjes = 1500\n",
    "# iters, grid = solutions.sequential_SOR(grid, tol, maxiters, omega, object_grid)     \n",
    "# assert iters < maxiters, f\"No convergence for SOR, omega: {omega} \"\n",
    "# iter_grid = np.copy(grid)\n",
    "# object_grid_iter = np.copy(object_grid)\n",
    "# Sr_pars = (tol, maxiters, omega)\n",
    "# stencil_iter = solutions.generate_stencil(object_grid_iter)\n",
    "# seedje = 22\n",
    "# # print(f\"starting animation for DLA, eta: {eta} \")\n",
    "# ani = animate_1a(iter_grid, stencil_iter, object_grid_iter, grid_indices, eta, seedje, Sr_pars, itertjes)\n",
    "\n"
   ]
  },
  {
   "cell_type": "markdown",
   "metadata": {},
   "source": [
    "### Animation of the DLA Process for Different Eta Values"
   ]
  },
  {
   "cell_type": "code",
   "execution_count": null,
   "metadata": {},
   "outputs": [],
   "source": [
    "if omega != 1.7:\n",
    "    omega = 1.7\n",
    "    iters, grid = solutions.sequential_SOR(grid, tol, maxiters, omega, object_grid)     \n",
    "    assert iters < maxiters, f\"No convergence for SOR, omega: {omega} \"\n",
    "    \n",
    "for eta in etas:\n",
    "\n",
    "    # copy initial grid to save computation time\n",
    "    iter_grid = np.copy(grid)\n",
    "    object_grid_iter = np.copy(object_grid)\n",
    "\n",
    "    # choose precomputed optimal omega for the specific eta\n",
    "    omega = opt_omegas[eta]\n",
    "\n",
    "    # pack the parameters for SOR\n",
    "    Sr_pars = (tol, maxiters, omega)\n",
    "\n",
    "    # generate the initial neighbors that can be chosen to add to the object\n",
    "    stencil_iter = solutions.generate_stencil(object_grid_iter)\n",
    "    seedje = 22\n",
    "    print(f\"starting animation for DLA, eta: {eta}\")\n",
    "\n",
    "    # render visualization (updates are done dynamically)\n",
    "    ani = visualizations.animate_1a(iter_grid, stencil_iter, object_grid_iter, grid_indices, eta, seedje, Sr_pars)\n"
   ]
  },
  {
   "cell_type": "markdown",
   "metadata": {},
   "source": [
    "### Computation of the average number of iterations for a SOR convergence step for Different Omega Values (Run Over 10 Different Grids )"
   ]
  },
  {
   "cell_type": "code",
   "execution_count": null,
   "metadata": {},
   "outputs": [],
   "source": [
    "itertjes = 750\n",
    "seedje=22\n",
    "\n",
    "eta_lijstje, grid_lijstje = solutions.optimize_omega_DLA(itertjes, etas, seedje, omegas, grid, object_grid, tol, maxiters, grid_indices)"
   ]
  },
  {
   "cell_type": "markdown",
   "metadata": {},
   "source": [
    "### Visualization of Average Iterations for Each SOR Convergence Step for Different Omega Values"
   ]
  },
  {
   "cell_type": "code",
   "execution_count": null,
   "metadata": {},
   "outputs": [],
   "source": [
    "best_omegas = visualizations.plot_omega_vs_iterations(eta_lijstje, omegas)\n",
    "for eetje, ommetje in best_omegas.items():\n",
    "    print(f\"For eta:  {eetje},  the optimal omega is {ommetje} \")"
   ]
  },
  {
   "cell_type": "markdown",
   "metadata": {},
   "source": [
    "### Visualization of Clusters for Different Eta Values"
   ]
  },
  {
   "cell_type": "code",
   "execution_count": null,
   "metadata": {},
   "outputs": [],
   "source": [
    "visualizations.plot_five_DLA(grid_lijstje, etas)"
   ]
  },
  {
   "cell_type": "code",
   "execution_count": null,
   "metadata": {},
   "outputs": [],
   "source": []
  }
 ],
 "metadata": {
  "kernelspec": {
   "display_name": "myenvsc2",
   "language": "python",
   "name": "python3"
  },
  "language_info": {
   "codemirror_mode": {
    "name": "ipython",
    "version": 3
   },
   "file_extension": ".py",
   "mimetype": "text/x-python",
   "name": "python",
   "nbconvert_exporter": "python",
   "pygments_lexer": "ipython3",
   "version": "3.12.3"
  }
 },
 "nbformat": 4,
 "nbformat_minor": 2
}
